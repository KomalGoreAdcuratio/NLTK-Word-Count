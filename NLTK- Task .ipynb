{
 "cells": [
  {
   "cell_type": "markdown",
   "id": "6c2d8fbf",
   "metadata": {},
   "source": [
    "# Task 1"
   ]
  },
  {
   "cell_type": "code",
   "execution_count": 1,
   "id": "f71163c4",
   "metadata": {},
   "outputs": [],
   "source": [
    "blog=\"\"\"You’ll be best equipped for this tutorial if you already have a solid foundation in some web application concepts. You should understand how HTTP requests and responses and APIs work. You can check out Python & APIs: A Winning Combo for Reading Public Data to understand the details of using GraphQL APIs vs REST APIs.\n",
    "\n",
    "Because you’ll use Django to build the back end for your blog, you’ll want to be familiar with starting a Django project and customizing the Django admin. If you haven’t used Django much before, you might also want to try building another Django-only project first. For a good introduction, check out Get Started with Django Part 1: Build a Portfolio App.\n",
    "\n",
    "Because you’ll be using Vue on the front end, some experience with reactive JavaScript will also help. If you’ve only used a DOM manipulation paradigm with a framework like jQuery in the past, the Vue introduction is a good foundation.\n",
    "\n",
    "Familiarity with JSON is also important because GraphQL queries are JSON-like and return data in JSON format. You can read about Working with JSON Data in Python for an introduction. You’ll also need to install Node.js to work on the front end later in this tutorial.\"\"\""
   ]
  },
  {
   "cell_type": "code",
   "execution_count": 3,
   "id": "a6425c43",
   "metadata": {},
   "outputs": [],
   "source": [
    "from nltk.corpus import stopwords\n"
   ]
  },
  {
   "cell_type": "code",
   "execution_count": 12,
   "id": "8b2e207a",
   "metadata": {},
   "outputs": [],
   "source": [
    "english_stops = set(stopwords.words('english'))\n",
    "words = blog.split(' ')\n",
    "data=[word for word in words if word not in english_stops]"
   ]
  },
  {
   "cell_type": "code",
   "execution_count": 7,
   "id": "a0ecba35",
   "metadata": {},
   "outputs": [],
   "source": [
    "from pymongo import MongoClient"
   ]
  },
  {
   "cell_type": "code",
   "execution_count": 8,
   "id": "4c1084d0",
   "metadata": {},
   "outputs": [],
   "source": [
    "cli=MongoClient('localhost',27017)"
   ]
  },
  {
   "cell_type": "code",
   "execution_count": 10,
   "id": "40792730",
   "metadata": {},
   "outputs": [],
   "source": [
    "database=cli['NLTK_DATA']"
   ]
  },
  {
   "cell_type": "markdown",
   "id": "a6b8cb12",
   "metadata": {},
   "source": [
    "# Task2 "
   ]
  },
  {
   "cell_type": "code",
   "execution_count": 18,
   "id": "d6452437",
   "metadata": {},
   "outputs": [],
   "source": [
    "collection=database['count_Word']"
   ]
  },
  {
   "cell_type": "code",
   "execution_count": 19,
   "id": "8b73df85",
   "metadata": {},
   "outputs": [],
   "source": [
    "dic={}\n",
    "for i in data:\n",
    "    if i in dic.keys():\n",
    "        dic[i]+=1\n",
    "    else:\n",
    "        dic[i]=1\n",
    "for i in dic.keys():\n",
    "    collection.insert_one({i:dic[i]})"
   ]
  }
 ],
 "metadata": {
  "kernelspec": {
   "display_name": "Python 3 (ipykernel)",
   "language": "python",
   "name": "python3"
  },
  "language_info": {
   "codemirror_mode": {
    "name": "ipython",
    "version": 3
   },
   "file_extension": ".py",
   "mimetype": "text/x-python",
   "name": "python",
   "nbconvert_exporter": "python",
   "pygments_lexer": "ipython3",
   "version": "3.11.2"
  }
 },
 "nbformat": 4,
 "nbformat_minor": 5
}
